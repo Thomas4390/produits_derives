{
 "cells": [
  {
   "cell_type": "markdown",
   "source": [
    "Remise électronique sur ZoneCours au plus tard le **22 février à 23h55** de:\n",
    "\n",
    "* Ce Jupyter notebook (.ipynb) en guise de rapport, une fois les réponses ajoutées.\n",
    "* **Tous** les fichiers *.py* nécessaires pour l'exécution du notebook\n",
    "\n",
    "Le rapport **doit**:\n",
    "\n",
    "* être en format .ipynb (des points seront enlevés pour tout autre format).\n",
    "* inclure le numéro de matricule de tous les membres de l'équipe dans la première cellule (i.e. remplacez ces consignes)\n",
    "* répondre aux questions et discuter des résultats à l'aide de tables, graphiques, et cellules markdown\n",
    "\n",
    "Barème:\n",
    "\n",
    "* **40%** Exactitude des résultats\n",
    "* **25%** Discussions complètes et **concises** (cellules ``markdown'')\n",
    "* **20%** Concision du notebook (.ipynb avec minimum de code) et clarté des graphiques\n",
    "* **15%** Clarté du code (.py)\n",
    "\n",
    "Dans les tables, présentez 4 décimales après le point.\n",
    "\n",
    "# Question 1\n",
    "\n",
    "Une action ne versant pas de dividende cote présentement à 100. Le taux sans risque à 1 mois est de 5%. Vous observez sur le marché les prix suivants pour des puts européens venant à maturité dans 1 mois:\n"
   ],
   "metadata": {
    "collapsed": false
   }
  },
  {
   "cell_type": "code",
   "execution_count": 1,
   "outputs": [],
   "source": [
    "from utils import *"
   ],
   "metadata": {
    "collapsed": false
   }
  },
  {
   "cell_type": "code",
   "execution_count": 2,
   "outputs": [
    {
     "data": {
      "text/plain": "   Strike      Put\n0    80.0   0.1900\n1    90.0   0.6907\n2    97.5   1.6529\n3   102.5   3.3409\n4   110.0   9.8399\n5   120.0  19.5805",
      "text/html": "<div>\n<style scoped>\n    .dataframe tbody tr th:only-of-type {\n        vertical-align: middle;\n    }\n\n    .dataframe tbody tr th {\n        vertical-align: top;\n    }\n\n    .dataframe thead th {\n        text-align: right;\n    }\n</style>\n<table border=\"1\" class=\"dataframe\">\n  <thead>\n    <tr style=\"text-align: right;\">\n      <th></th>\n      <th>Strike</th>\n      <th>Put</th>\n    </tr>\n  </thead>\n  <tbody>\n    <tr>\n      <th>0</th>\n      <td>80.0</td>\n      <td>0.1900</td>\n    </tr>\n    <tr>\n      <th>1</th>\n      <td>90.0</td>\n      <td>0.6907</td>\n    </tr>\n    <tr>\n      <th>2</th>\n      <td>97.5</td>\n      <td>1.6529</td>\n    </tr>\n    <tr>\n      <th>3</th>\n      <td>102.5</td>\n      <td>3.3409</td>\n    </tr>\n    <tr>\n      <th>4</th>\n      <td>110.0</td>\n      <td>9.8399</td>\n    </tr>\n    <tr>\n      <th>5</th>\n      <td>120.0</td>\n      <td>19.5805</td>\n    </tr>\n  </tbody>\n</table>\n</div>"
     },
     "execution_count": 2,
     "metadata": {},
     "output_type": "execute_result"
    }
   ],
   "source": [
    "info = get_info()\n",
    "info"
   ],
   "metadata": {
    "collapsed": false
   }
  },
  {
   "cell_type": "markdown",
   "source": [
    "Quelles sont les volatilités implicites ('IV') de ces puts? Tracez le graphe des ces IV en fonction de $K/S$ et discutez brièvement.\n"
   ],
   "metadata": {
    "collapsed": false
   }
  },
  {
   "cell_type": "markdown",
   "source": [
    "On commence par poser les données du problème :\n",
    "\n",
    "- Le sous-jacent qui ne verse pas de dividendes côte actuellement à 100$\n",
    "- Expiration du put option dans un mois, c'est-à-dire 1/12 d'année.\n",
    "- Taux sans risque à un mois est de 5%"
   ],
   "metadata": {
    "collapsed": false
   }
  },
  {
   "cell_type": "code",
   "execution_count": 3,
   "outputs": [],
   "source": [
    "S0 = 100.0\n",
    "T = 1/12\n",
    "r = 0.05"
   ],
   "metadata": {
    "collapsed": false
   }
  },
  {
   "cell_type": "markdown",
   "source": [
    "Avant de pouvoir trouver les volatilités implicites (\"IV\") de ces puts, nous devons définir le modèle de Black-Merton-Scholes pour un put."
   ],
   "metadata": {
    "collapsed": false
   }
  },
  {
   "cell_type": "code",
   "execution_count": 4,
   "outputs": [
    {
     "data": {
      "text/plain": "3.509230952965808"
     },
     "execution_count": 4,
     "metadata": {},
     "output_type": "execute_result"
    }
   ],
   "source": [
    "compute_put_option(sigma=0.2, S0=S0, K=102.5, T=T, r=r)"
   ],
   "metadata": {
    "collapsed": false
   }
  },
  {
   "cell_type": "code",
   "execution_count": 5,
   "outputs": [],
   "source": [
    "sigma = compute_implied_volatility_by_bisection(S0=S0, K=102.5, T=T, r=r, Put=3.3409)"
   ],
   "metadata": {
    "collapsed": false
   }
  },
  {
   "cell_type": "code",
   "execution_count": 6,
   "outputs": [
    {
     "data": {
      "text/plain": "3.3408995112149142"
     },
     "execution_count": 6,
     "metadata": {},
     "output_type": "execute_result"
    }
   ],
   "source": [
    "compute_put_option(sigma=sigma, S0=S0, K=102.5, T=T, r=r)"
   ],
   "metadata": {
    "collapsed": false
   }
  },
  {
   "cell_type": "code",
   "execution_count": 7,
   "outputs": [],
   "source": [
    "results = pd.DataFrame()"
   ],
   "metadata": {
    "collapsed": false
   }
  },
  {
   "cell_type": "code",
   "execution_count": 8,
   "outputs": [],
   "source": [
    "results[\"Sigma\"] = compute_implicit_vol_array(S0=S0, K=info['Strike'].values, T=T, r=r, Put=info['Put'].values)"
   ],
   "metadata": {
    "collapsed": false
   }
  },
  {
   "cell_type": "code",
   "execution_count": 9,
   "outputs": [],
   "source": [
    "results[\"Put BMS\"] = compute_put_option(sigma=results[\"Sigma\"].values, S0=S0, K=info['Strike'].values, T=T, r=r)\n",
    "results[\"Put\"] = info['Put']"
   ],
   "metadata": {
    "collapsed": false
   }
  },
  {
   "cell_type": "code",
   "execution_count": 10,
   "outputs": [
    {
     "data": {
      "text/plain": "      Sigma    Put BMS      Put         Error\n0  0.451208   0.190000   0.1900  4.914754e-07\n1  0.352293   0.690701   0.6907  9.555129e-07\n2  0.253404   1.652900   1.6529  6.482257e-08\n3  0.184501   3.340900   3.3409 -4.887851e-07\n4  0.235599   9.839900   9.8399 -1.981998e-07\n5  0.306697  19.580500  19.5805  2.192922e-08",
      "text/html": "<div>\n<style scoped>\n    .dataframe tbody tr th:only-of-type {\n        vertical-align: middle;\n    }\n\n    .dataframe tbody tr th {\n        vertical-align: top;\n    }\n\n    .dataframe thead th {\n        text-align: right;\n    }\n</style>\n<table border=\"1\" class=\"dataframe\">\n  <thead>\n    <tr style=\"text-align: right;\">\n      <th></th>\n      <th>Sigma</th>\n      <th>Put BMS</th>\n      <th>Put</th>\n      <th>Error</th>\n    </tr>\n  </thead>\n  <tbody>\n    <tr>\n      <th>0</th>\n      <td>0.451208</td>\n      <td>0.190000</td>\n      <td>0.1900</td>\n      <td>4.914754e-07</td>\n    </tr>\n    <tr>\n      <th>1</th>\n      <td>0.352293</td>\n      <td>0.690701</td>\n      <td>0.6907</td>\n      <td>9.555129e-07</td>\n    </tr>\n    <tr>\n      <th>2</th>\n      <td>0.253404</td>\n      <td>1.652900</td>\n      <td>1.6529</td>\n      <td>6.482257e-08</td>\n    </tr>\n    <tr>\n      <th>3</th>\n      <td>0.184501</td>\n      <td>3.340900</td>\n      <td>3.3409</td>\n      <td>-4.887851e-07</td>\n    </tr>\n    <tr>\n      <th>4</th>\n      <td>0.235599</td>\n      <td>9.839900</td>\n      <td>9.8399</td>\n      <td>-1.981998e-07</td>\n    </tr>\n    <tr>\n      <th>5</th>\n      <td>0.306697</td>\n      <td>19.580500</td>\n      <td>19.5805</td>\n      <td>2.192922e-08</td>\n    </tr>\n  </tbody>\n</table>\n</div>"
     },
     "execution_count": 10,
     "metadata": {},
     "output_type": "execute_result"
    }
   ],
   "source": [
    "results[\"Error\"] = results[\"Put BMS\"] - results[\"Put\"]\n",
    "results"
   ],
   "metadata": {
    "collapsed": false
   }
  },
  {
   "cell_type": "code",
   "execution_count": 11,
   "outputs": [
    {
     "data": {
      "text/plain": "[<matplotlib.lines.Line2D at 0x12452e6d0>]"
     },
     "execution_count": 11,
     "metadata": {},
     "output_type": "execute_result"
    },
    {
     "data": {
      "text/plain": "<Figure size 640x480 with 1 Axes>",
      "image/png": "[encoded data removed]"
     },
     "metadata": {},
     "output_type": "display_data"
    }
   ],
   "source": [
    "plt.plot(info['Strike']/S0, results['Sigma'])"
   ],
   "metadata": {
    "collapsed": false
   }
  },
  {
   "cell_type": "markdown",
   "source": [
    "# Question 2\n",
    "\n",
    "Vous vous intéressez à ces options parce que vous avez, d'autre part,\n",
    "émis des produits structurés contenant des puts de même strikes, mais permettant un exercice à tout moment d'ici la maturité. Pour chacun de ces strike, vous désirez donc utiliser un arbre CRR afin de valoriser l'option américaine correspondante.\n",
    "\n",
    "En premier lieu, vous désirez donc étudier la convergence de votre arbre vers le prix BMS pour les européennes observées sur le marché. Pour des valeurs de $N$ allant de 2 à 100 (`range(2,101)`), tracer, dans une figure\n",
    "`\n",
    "    fig, axes = plt.subplots(3, 2, figsize=(15,20))\n",
    "`\n",
    "avec une sous-figure par strike,\n",
    "\n",
    "* Le prix CRR obtenu pour chaque $N$\n",
    "* Une ligne horizontale traitillée au prix de marché\n",
    "* Deux ligne horizontales pointillées à $\\pm$1 bp du prix de marché\n",
    "\n",
    "Discutez brièvement de la qualité de la convergence."
   ],
   "metadata": {
    "collapsed": false
   }
  },
  {
   "cell_type": "code",
   "execution_count": 12,
   "outputs": [
    {
     "data": {
      "text/plain": "0.6896011738623822"
     },
     "execution_count": 12,
     "metadata": {},
     "output_type": "execute_result"
    }
   ],
   "source": [
    "CRR_Tree(S=S0, K=info['Strike'].iloc[1], T=T, r=r, sigma=results['Sigma'].iloc[1], N=100)"
   ],
   "metadata": {
    "collapsed": false
   }
  },
  {
   "cell_type": "code",
   "execution_count": 13,
   "outputs": [],
   "source": [
    "N_range = np.arange(2, 101)"
   ],
   "metadata": {
    "collapsed": false
   }
  },
  {
   "cell_type": "code",
   "execution_count": 14,
   "outputs": [],
   "source": [
    "CRR_values = np.array([[CRR_Tree(S=S0, K=info['Strike'].iloc[i], T=T, r=r, sigma=results['Sigma'].iloc[i], N=N) for N in N_range] for i in range(len(info))]).T\n",
    "columns = [f\"Put_{i}\" for i in range(len(info))]\n",
    "df_crr = matrix_to_dataframe(CRR_values, columns=columns)"
   ],
   "metadata": {
    "collapsed": false
   }
  },
  {
   "cell_type": "code",
   "execution_count": 15,
   "outputs": [
    {
     "data": {
      "text/plain": "       Put_0     Put_1     Put_2     Put_3     Put_4      Put_5\n0   0.000000  0.000000  0.000000  1.243141  4.977354  11.623474\n1   0.000000  0.000000  0.603463  2.001124  7.363181  15.262449\n2   0.000000  0.000000  1.110630  2.747304  8.504583  17.258852\n3   0.000000  0.434265  1.258093  2.864910  9.049485  18.386373\n4   0.000000  0.502965  1.547709  3.214704  9.479427  18.956770\n..       ...       ...       ...       ...       ...        ...\n94  0.189765  0.686172  1.657609  3.343292  9.837722  19.577964\n95  0.186304  0.694105  1.654605  3.342323  9.840408  19.579741\n96  0.190098  0.688031  1.657129  3.343665  9.836343  19.578754\n97  0.185439  0.693518  1.655110  3.341736  9.840680  19.579386\n98  0.190118  0.689601  1.656639  3.343978  9.835071  19.579339\n\n[99 rows x 6 columns]",
      "text/html": "<div>\n<style scoped>\n    .dataframe tbody tr th:only-of-type {\n        vertical-align: middle;\n    }\n\n    .dataframe tbody tr th {\n        vertical-align: top;\n    }\n\n    .dataframe thead th {\n        text-align: right;\n    }\n</style>\n<table border=\"1\" class=\"dataframe\">\n  <thead>\n    <tr style=\"text-align: right;\">\n      <th></th>\n      <th>Put_0</th>\n      <th>Put_1</th>\n      <th>Put_2</th>\n      <th>Put_3</th>\n      <th>Put_4</th>\n      <th>Put_5</th>\n    </tr>\n  </thead>\n  <tbody>\n    <tr>\n      <th>0</th>\n      <td>0.000000</td>\n      <td>0.000000</td>\n      <td>0.000000</td>\n      <td>1.243141</td>\n      <td>4.977354</td>\n      <td>11.623474</td>\n    </tr>\n    <tr>\n      <th>1</th>\n      <td>0.000000</td>\n      <td>0.000000</td>\n      <td>0.603463</td>\n      <td>2.001124</td>\n      <td>7.363181</td>\n      <td>15.262449</td>\n    </tr>\n    <tr>\n      <th>2</th>\n      <td>0.000000</td>\n      <td>0.000000</td>\n      <td>1.110630</td>\n      <td>2.747304</td>\n      <td>8.504583</td>\n      <td>17.258852</td>\n    </tr>\n    <tr>\n      <th>3</th>\n      <td>0.000000</td>\n      <td>0.434265</td>\n      <td>1.258093</td>\n      <td>2.864910</td>\n      <td>9.049485</td>\n      <td>18.386373</td>\n    </tr>\n    <tr>\n      <th>4</th>\n      <td>0.000000</td>\n      <td>0.502965</td>\n      <td>1.547709</td>\n      <td>3.214704</td>\n      <td>9.479427</td>\n      <td>18.956770</td>\n    </tr>\n    <tr>\n      <th>...</th>\n      <td>...</td>\n      <td>...</td>\n      <td>...</td>\n      <td>...</td>\n      <td>...</td>\n      <td>...</td>\n    </tr>\n    <tr>\n      <th>94</th>\n      <td>0.189765</td>\n      <td>0.686172</td>\n      <td>1.657609</td>\n      <td>3.343292</td>\n      <td>9.837722</td>\n      <td>19.577964</td>\n    </tr>\n    <tr>\n      <th>95</th>\n      <td>0.186304</td>\n      <td>0.694105</td>\n      <td>1.654605</td>\n      <td>3.342323</td>\n      <td>9.840408</td>\n      <td>19.579741</td>\n    </tr>\n    <tr>\n      <th>96</th>\n      <td>0.190098</td>\n      <td>0.688031</td>\n      <td>1.657129</td>\n      <td>3.343665</td>\n      <td>9.836343</td>\n      <td>19.578754</td>\n    </tr>\n    <tr>\n      <th>97</th>\n      <td>0.185439</td>\n      <td>0.693518</td>\n      <td>1.655110</td>\n      <td>3.341736</td>\n      <td>9.840680</td>\n      <td>19.579386</td>\n    </tr>\n    <tr>\n      <th>98</th>\n      <td>0.190118</td>\n      <td>0.689601</td>\n      <td>1.656639</td>\n      <td>3.343978</td>\n      <td>9.835071</td>\n      <td>19.579339</td>\n    </tr>\n  </tbody>\n</table>\n<p>99 rows × 6 columns</p>\n</div>"
     },
     "execution_count": 15,
     "metadata": {},
     "output_type": "execute_result"
    }
   ],
   "source": [
    "df_crr"
   ],
   "metadata": {
    "collapsed": false
   }
  },
  {
   "cell_type": "code",
   "execution_count": 14,
   "outputs": [],
   "source": [],
   "metadata": {
    "collapsed": false
   }
  }
 ],
 "metadata": {
  "kernelspec": {
   "display_name": "Python 3",
   "language": "python",
   "name": "python3"
  },
  "language_info": {
   "codemirror_mode": {
    "name": "ipython",
    "version": 2
   },
   "file_extension": ".py",
   "mimetype": "text/x-python",
   "name": "python",
   "nbconvert_exporter": "python",
   "pygments_lexer": "ipython2",
   "version": "2.7.6"
  }
 },
 "nbformat": 4,
 "nbformat_minor": 0
}
