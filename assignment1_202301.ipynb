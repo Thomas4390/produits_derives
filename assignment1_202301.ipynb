{
 "cells": [
  {
   "cell_type": "code",
   "execution_count": 1,
   "metadata": {},
   "outputs": [
    {
     "ename": "ModuleNotFoundError",
     "evalue": "No module named 'jupyter_notebook'",
     "output_type": "error",
     "traceback": [
      "\u001B[0;31m---------------------------------------------------------------------------\u001B[0m",
      "\u001B[0;31mModuleNotFoundError\u001B[0m                       Traceback (most recent call last)",
      "Cell \u001B[0;32mIn[1], line 1\u001B[0m\n\u001B[0;32m----> 1\u001B[0m \u001B[38;5;28;01mfrom\u001B[39;00m \u001B[38;5;21;01massignment1_202301\u001B[39;00m \u001B[38;5;28;01mimport\u001B[39;00m \u001B[38;5;241m*\u001B[39m\n",
      "File \u001B[0;32m~/Documents/Mes_documents/0_Ingenierie_Financiere/Hiver_2023/Produits dérivés/TP1/assignment1_202301.py:6\u001B[0m\n\u001B[1;32m      3\u001B[0m \u001B[38;5;28;01mif\u001B[39;00m os\u001B[38;5;241m.\u001B[39mgetcwd()\u001B[38;5;241m.\u001B[39mfind(\u001B[38;5;124m'\u001B[39m\u001B[38;5;124mdorion_francois/code/assignments\u001B[39m\u001B[38;5;124m'\u001B[39m) \u001B[38;5;241m>\u001B[39m\u001B[38;5;241m=\u001B[39m \u001B[38;5;241m0\u001B[39m:\n\u001B[1;32m      4\u001B[0m     sys\u001B[38;5;241m.\u001B[39mpath\u001B[38;5;241m.\u001B[39mappend(\u001B[38;5;124m\"\u001B[39m\u001B[38;5;124m..\u001B[39m\u001B[38;5;124m\"\u001B[39m)\n\u001B[0;32m----> 6\u001B[0m \u001B[38;5;28;01mfrom\u001B[39;00m \u001B[38;5;21;01mjupyter_notebook\u001B[39;00m \u001B[38;5;28;01mimport\u001B[39;00m \u001B[38;5;241m*\u001B[39m\n\u001B[1;32m      7\u001B[0m \u001B[38;5;66;03m# import binomial_tree as crr\u001B[39;00m\n\u001B[1;32m      8\u001B[0m \u001B[38;5;28;01mimport\u001B[39;00m \u001B[38;5;21;01mblack_merton_scholes\u001B[39;00m \u001B[38;5;28;01mas\u001B[39;00m \u001B[38;5;21;01mbms\u001B[39;00m\n",
      "\u001B[0;31mModuleNotFoundError\u001B[0m: No module named 'jupyter_notebook'"
     ]
    }
   ],
   "source": [
    "from assignment1_202301 import *\n"
   ]
  },
  {
   "cell_type": "markdown",
   "metadata": {},
   "source": [
    "Remise électronique sur ZoneCours au plus tard le **22 février à 23h55** de:\n",
    "\n",
    "* Ce Jupyter notebook (.ipynb) en guise de rapport, une fois les réponses ajoutées. \n",
    "* **Tous** les fichiers *.py* nécessaires pour l'exécution du notebook\n",
    "\n",
    "Le rapport **doit**:\n",
    "\n",
    "* être en format .ipynb (des points seront enlevés pour tout autre format).\n",
    "* inclure le numéro de matricule de tous les membres de l'équipe dans la première cellule (i.e. remplacez ces consignes)\n",
    "* répondre aux questions et discuter des résultats à l'aide de tables, graphiques, et cellules markdown\n",
    "\n",
    "Barème:\n",
    "\n",
    "* **40%** Exactitude des résultats\n",
    "* **25%** Discussions complètes et **concises** (cellules ``markdown'')\n",
    "* **20%** Concision du notebook (.ipynb avec minimum de code) et clarté des graphiques\n",
    "* **15%** Clarté du code (.py)\n",
    "\n",
    "Dans les tables, présentez 4 décimales après le point.\n",
    "\n",
    "# Question 1\n",
    "\n",
    "Une action ne versant pas de dividende cote présentement à 100. Le taux sans risque à 1 mois est de 5%. Vous observez sur le marché les prix suivants pour des puts européens venant à maturité dans 1 mois:"
   ]
  },
  {
   "cell_type": "code",
   "execution_count": 2,
   "metadata": {},
   "outputs": [
    {
     "data": {
      "text/html": [
       "<div>\n",
       "<style scoped>\n",
       "    .dataframe tbody tr th:only-of-type {\n",
       "        vertical-align: middle;\n",
       "    }\n",
       "\n",
       "    .dataframe tbody tr th {\n",
       "        vertical-align: top;\n",
       "    }\n",
       "\n",
       "    .dataframe thead th {\n",
       "        text-align: right;\n",
       "    }\n",
       "</style>\n",
       "<table border=\"1\" class=\"dataframe\">\n",
       "  <thead>\n",
       "    <tr style=\"text-align: right;\">\n",
       "      <th></th>\n",
       "      <th>Strike</th>\n",
       "      <th>Put</th>\n",
       "    </tr>\n",
       "  </thead>\n",
       "  <tbody>\n",
       "    <tr>\n",
       "      <th>0</th>\n",
       "      <td>80</td>\n",
       "      <td>0.1900</td>\n",
       "    </tr>\n",
       "    <tr>\n",
       "      <th>1</th>\n",
       "      <td>90</td>\n",
       "      <td>0.6907</td>\n",
       "    </tr>\n",
       "    <tr>\n",
       "      <th>2</th>\n",
       "      <td>98</td>\n",
       "      <td>1.6529</td>\n",
       "    </tr>\n",
       "    <tr>\n",
       "      <th>3</th>\n",
       "      <td>102</td>\n",
       "      <td>3.3409</td>\n",
       "    </tr>\n",
       "    <tr>\n",
       "      <th>4</th>\n",
       "      <td>110</td>\n",
       "      <td>9.8399</td>\n",
       "    </tr>\n",
       "    <tr>\n",
       "      <th>5</th>\n",
       "      <td>120</td>\n",
       "      <td>19.5805</td>\n",
       "    </tr>\n",
       "  </tbody>\n",
       "</table>\n",
       "</div>"
      ],
      "text/plain": [
       "  Strike      Put\n",
       "0     80   0.1900\n",
       "1     90   0.6907\n",
       "2     98   1.6529\n",
       "3    102   3.3409\n",
       "4    110   9.8399\n",
       "5    120  19.5805"
      ]
     },
     "execution_count": 2,
     "metadata": {},
     "output_type": "execute_result"
    }
   ],
   "source": [
    "info = get_info()\n",
    "info"
   ]
  },
  {
   "cell_type": "markdown",
   "metadata": {},
   "source": [
    "Quelles sont les volatilités implicites ('IV') de ces puts? Tracez le graphe des ces IV en fonction de $K/S$ et discutez brièvement."
   ]
  },
  {
   "cell_type": "markdown",
   "metadata": {},
   "source": [
    "# Question 2"
   ]
  },
  {
   "cell_type": "markdown",
   "metadata": {},
   "source": [
    "Vous vous intéressez à ces options parce que vous avez, d'autre part, \n",
    "émis des produits structurés contenant des puts de même strikes, mais permettant un exercice à tout moment d'ici la maturité. Pour chacun de ces strike, vous désirez donc utiliser un arbre CRR afin de valoriser l'option américaine correspondante.\n",
    "\n",
    "En premier lieu, vous désirez donc étudier la convergence de votre arbre vers le prix BMS pour les européennes observées sur le marché. Pour des valeurs de $N$ allant de 2 à 100 (`range(2,101)`), tracer, dans une figure \n",
    "`\n",
    "    fig, axes = plt.subplots(3, 2, figsize=(15,20))\n",
    "`\n",
    "avec une sous-figure par strike,\n",
    "\n",
    "* Le prix CRR obtenu pour chaque $N$\n",
    "* Une ligne horizontale traitillée au prix de marché\n",
    "* Deux ligne horizontales pointillées à $\\pm$1 bp du prix de marché\n",
    "\n",
    "Discutez brièvement de la qualité de la convergence."
   ]
  },
  {
   "cell_type": "markdown",
   "metadata": {},
   "source": [
    "# Question 3"
   ]
  },
  {
   "cell_type": "markdown",
   "metadata": {},
   "source": [
    "Répétez la figure ci-haut, en vous concentrant sur les pas $N = range(400, 501)$. \n",
    "Ajoutez aussi, pour chaque strike, une courbe raportant la valeur obtenu à $N$ avec l'arbre CRR ajusté à l'aide de la correction de Broadie et Detemple. Comparez les deux méthodes. En particulier, soulignez l'avantage de l'ajustement quand viendra le temps de choisir un nombre de pas de temps respectant une tolérance de $\\pm$1bp."
   ]
  },
  {
   "cell_type": "markdown",
   "metadata": {},
   "source": [
    "# Question 4"
   ]
  },
  {
   "cell_type": "markdown",
   "metadata": {},
   "source": [
    "En utilisant maintenant que les pas $N = range(500, 3001, 100)$, n'utilisez que l'arbre avec ajustement. Tracez à nouveau une figure de convergence 3x2. Combien de pas de temps sont nécessaires pour que tous les strikes respectent une tolérance de $\\pm$1bp?\n",
    "\n",
    "Assurez-vous aussi, pour chaque $N$, de calculer les 3 approximations suivantes du gamma:\n",
    "\\begin{align}\n",
    " \\Gamma_0 &= \\frac{p_{uu}-2p_{ud}+p_{dd}}{\\left[(u-d) S\\right]^{2}},\n",
    " \\\\\n",
    " \\Gamma_1 &= \\frac{\n",
    "    \\frac{(p_{uu}-p_{ud})}{u^{2}S-S} \n",
    "    - \\frac{(p_{ud}-p_{dd})}{S-d^{2}S}\n",
    "  }{Su - Sd},\n",
    " \\\\\n",
    " \\Gamma_2 &= \\frac{\n",
    "    \\frac{(p_{uu}-p_{ud})}{u^{2}S-S} \n",
    "    - \\frac{(p_{ud}-p_{dd})}{S-d^{2}S}\n",
    "  }{\\frac{1}{2}(Su^2 - Sd^2)}.\n",
    "\\end{align}\n",
    "\n",
    "Produisez une nouvelle figure de convergence, cette fois vers $\\Gamma_{BMS}\\pm 1bp$. Discutez brièvement."
   ]
  },
  {
   "cell_type": "markdown",
   "metadata": {},
   "source": [
    "# Question 5\n",
    "Soit $N^*$ le nombre de pas de temps nécessaire à une convergence pour les 6 strikes (cf. Question 4). Ajoutez à la table dans l'énoncé de la Question 1 les colonnes suivantes:\n",
    "\n",
    "`\n",
    "colnames = ['IV','Amer','EarlyEx','Gamma_e','Gamma_a','Gamma_ex']\n",
    "`\n",
    "\n",
    "qui contiendront pour chaque strike, respectivement, la volatilité implicite (en Q1), la valeur de l'américaine, la prime associée à l'exercice anticipé et le gamma de l'européenne (BMS) et de l'américaine, et la différence entre les gammas.\n",
    "\n",
    "Discutez."
   ]
  },
  {
   "cell_type": "markdown",
   "metadata": {},
   "source": [
    "# Question 6\n",
    "\n",
    "En ligne la semaine prochaine..."
   ]
  },
  {
   "cell_type": "code",
   "execution_count": 14,
   "metadata": {},
   "outputs": [
    {
     "name": "stdout",
     "output_type": "stream",
     "text": [
      "Elapsed time: 37.790836 seconds.\n",
      "\n"
     ]
    },
    {
     "data": {
      "text/plain": [
       "37.790835709"
      ]
     },
     "execution_count": 14,
     "metadata": {},
     "output_type": "execute_result"
    }
   ],
   "source": [
    "toc()"
   ]
  }
 ],
 "metadata": {
  "kernelspec": {
   "display_name": "Python 3 (ipykernel)",
   "language": "python",
   "name": "python3"
  },
  "language_info": {
   "codemirror_mode": {
    "name": "ipython",
    "version": 3
   },
   "file_extension": ".py",
   "mimetype": "text/x-python",
   "name": "python",
   "nbconvert_exporter": "python",
   "pygments_lexer": "ipython3",
   "version": "3.9.12"
  }
 },
 "nbformat": 4,
 "nbformat_minor": 4
}
